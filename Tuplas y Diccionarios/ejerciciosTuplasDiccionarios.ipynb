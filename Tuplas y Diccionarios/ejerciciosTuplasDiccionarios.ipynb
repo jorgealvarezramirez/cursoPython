{
 "cells": [
  {
   "cell_type": "code",
   "execution_count": 10,
   "metadata": {},
   "outputs": [
    {
     "name": "stdout",
     "output_type": "stream",
     "text": [
      "9\n",
      "(1, 10, 100, 1000, 10000)\n",
      "(1, 10, 100, 1, 10, 100, 1, 10, 100)\n",
      "True\n",
      "True\n"
     ]
    }
   ],
   "source": [
    "my_tuple = (1, 10, 100)\n",
    "\n",
    "t1 = my_tuple + (1000, 10000)\n",
    "t2 = my_tuple * 3\n",
    "\n",
    "print(len(t2))\n",
    "print(t1)\n",
    "print(t2)\n",
    "print(10 in my_tuple)\n",
    "print(-10 not in my_tuple)"
   ]
  },
  {
   "cell_type": "code",
   "execution_count": 11,
   "metadata": {},
   "outputs": [
    {
     "name": "stdout",
     "output_type": "stream",
     "text": [
      "{'gato': 'chat', 'perro': 'chien', 'caballo': 'cheval'}\n",
      "{'jefe': 5551234567, 'Suzy': 22657854310}\n",
      "{}\n"
     ]
    }
   ],
   "source": [
    "dictionary = {\"gato\": \"chat\", \"perro\": \"chien\", \"caballo\": \"cheval\"}\n",
    "phone_numbers = {'jefe': 5551234567, 'Suzy': 22657854310}\n",
    "empty_dictionary = {}\n",
    " \n",
    "print(dictionary)\n",
    "print(phone_numbers)\n",
    "print(empty_dictionary)\n",
    " "
   ]
  },
  {
   "cell_type": "code",
   "execution_count": 12,
   "metadata": {},
   "outputs": [
    {
     "name": "stdout",
     "output_type": "stream",
     "text": [
      "{'gato': 'chat', 'perro': 'chien', 'caballo': 'cheval'}\n",
      "{'jefe': 5551234567, 'Suzy': 22657854310}\n",
      "{}\n"
     ]
    }
   ],
   "source": [
    "dictionary = {\"gato\": \"chat\", \"perro\": \"chien\", \"caballo\": \"cheval\"}\n",
    "phone_numbers = {'jefe' : 5551234567, 'Suzy' : 22657854310}\n",
    "empty_dictionary = {}\n",
    "\n",
    "# Imprimir valores aquí.\n",
    "print(dictionary)\n",
    "print(phone_numbers)\n",
    "print(empty_dictionary)\n"
   ]
  },
  {
   "cell_type": "code",
   "execution_count": 13,
   "metadata": {},
   "outputs": [
    {
     "name": "stdout",
     "output_type": "stream",
     "text": [
      "chat\n",
      "22657854310\n"
     ]
    }
   ],
   "source": [
    "print(dictionary['gato'])\n",
    "print(phone_numbers['Suzy'])"
   ]
  },
  {
   "cell_type": "code",
   "execution_count": 14,
   "metadata": {},
   "outputs": [
    {
     "name": "stdout",
     "output_type": "stream",
     "text": [
      "gato no está en el diccionario\n",
      "león no está en el diccionario\n",
      "caballo -> cheval\n"
     ]
    }
   ],
   "source": [
    "dictionary = {\"cat\": \"gato\", \"perro\": \"chien\", \"caballo\": \"cheval\"}\n",
    "words = ['gato', 'león', 'caballo']\n",
    "\n",
    "for word in words:\n",
    "    if word in dictionary:\n",
    "        print(word, \"->\", dictionary[word])\n",
    "    else:\n",
    "        print(word, \"no está en el diccionario\")\n",
    "\n"
   ]
  },
  {
   "cell_type": "code",
   "execution_count": 15,
   "metadata": {},
   "outputs": [],
   "source": [
    "# Ejemplo 1:\n",
    "dictionary = {\n",
    "              \"gato\": \"chat\",\n",
    "              \"perro\": \"chien\",\n",
    "              \"caballo\": \"cheval\"\n",
    "}\n",
    "# Ejemplo 2:\n",
    "phone_numbers = {'jefe': 5551234567,\n",
    "              'Suzy': 22657854310\n",
    "}\n",
    "\n"
   ]
  },
  {
   "attachments": {},
   "cell_type": "markdown",
   "metadata": {},
   "source": [
    "## Métodos y funciones de los diccionarios"
   ]
  },
  {
   "attachments": {},
   "cell_type": "markdown",
   "metadata": {},
   "source": [
    "### El método keys()"
   ]
  },
  {
   "attachments": {},
   "cell_type": "markdown",
   "metadata": {},
   "source": [
    "El primero de ellos es un método denominado keys(), el cual es parte de todo diccionario. El método retorna o regresa una lista de todas las claves dentro del diccionario. Al tener una lista de claves se puede acceder a todo el diccionario de una manera fácil y útil.\n",
    "\n",
    "A continuación se muestra un ejemplo:"
   ]
  },
  {
   "cell_type": "code",
   "execution_count": 16,
   "metadata": {},
   "outputs": [
    {
     "name": "stdout",
     "output_type": "stream",
     "text": [
      "gato -> chat\n",
      "perro -> chien\n",
      "caballo -> cheval\n"
     ]
    }
   ],
   "source": [
    "dictionary = {\"gato\": \"chat\", \"perro\": \"chien\", \"caballo\": \"cheval\"}\n",
    "\n",
    "for key in dictionary.keys():\n",
    "    print(key, \"->\", dictionary[key])\n",
    "\n"
   ]
  },
  {
   "attachments": {},
   "cell_type": "markdown",
   "metadata": {},
   "source": [
    "### El método items()"
   ]
  },
  {
   "attachments": {},
   "cell_type": "markdown",
   "metadata": {},
   "source": [
    "Otra manera de hacerlo es utilizar el método items(). Este método retorna una lista de tuplas (este es el primer ejemplo en el que las tuplas son mas que un ejemplo de si mismas) donde cada tupla es un par de cada clave con su valor.\n",
    "\n",
    "Así es como funciona:"
   ]
  },
  {
   "cell_type": "code",
   "execution_count": 17,
   "metadata": {},
   "outputs": [
    {
     "name": "stdout",
     "output_type": "stream",
     "text": [
      "gato -> chat\n",
      "perro -> chien\n",
      "caballo -> cheval\n"
     ]
    }
   ],
   "source": [
    "dictionary = {\"gato\": \"chat\", \"perro\": \"chien\", \"caballo\": \"cheval\"}\n",
    "\n",
    "for spanish, french in dictionary.items():\n",
    "    print(spanish, \"->\", french)"
   ]
  }
 ],
 "metadata": {
  "kernelspec": {
   "display_name": "Python 3",
   "language": "python",
   "name": "python3"
  },
  "language_info": {
   "codemirror_mode": {
    "name": "ipython",
    "version": 3
   },
   "file_extension": ".py",
   "mimetype": "text/x-python",
   "name": "python",
   "nbconvert_exporter": "python",
   "pygments_lexer": "ipython3",
   "version": "3.11.0"
  },
  "orig_nbformat": 4
 },
 "nbformat": 4,
 "nbformat_minor": 2
}
