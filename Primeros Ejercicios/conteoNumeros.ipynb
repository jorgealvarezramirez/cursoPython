{
 "cells": [
  {
   "attachments": {},
   "cell_type": "markdown",
   "metadata": {},
   "source": [
    "Un programa que lee una secuencia de números\n",
    "y cuenta cuántos números son pares y cuántos son impares.\n",
    "El programa termina cuando se ingresa un cero."
   ]
  },
  {
   "attachments": {},
   "cell_type": "markdown",
   "metadata": {},
   "source": [
    "Creamos dos variables, una para almacenar el conteo de los numeros pares y la otra para almacenar los números impares"
   ]
  },
  {
   "cell_type": "code",
   "execution_count": 8,
   "metadata": {},
   "outputs": [],
   "source": [
    "conteoNumerosPares = 0\n",
    "conteoNumerosImpares = 0"
   ]
  },
  {
   "attachments": {},
   "cell_type": "markdown",
   "metadata": {},
   "source": [
    "Código para iniciar la solicitud de ingreso de números por pantalla"
   ]
  },
  {
   "cell_type": "code",
   "execution_count": 9,
   "metadata": {},
   "outputs": [],
   "source": [
    "numero = int(input('Ingrese un número, cero finaliza el programa '))\n"
   ]
  },
  {
   "attachments": {},
   "cell_type": "markdown",
   "metadata": {},
   "source": [
    "Iniciamos el bucle con while, condicionando que sea diferente a cero para continuar, ya que cero finaliza la aplicación."
   ]
  },
  {
   "cell_type": "code",
   "execution_count": 10,
   "metadata": {},
   "outputs": [
    {
     "name": "stdout",
     "output_type": "stream",
     "text": [
      "Resultado final conteo de número pares:  2\n",
      "Resultado final conteo de número impares:  3\n"
     ]
    }
   ],
   "source": [
    "while numero != 0:\n",
    "    # Si el resto de numero(numero ingresado)es igual a 1, entonces es un numero impar\n",
    "    if numero % 2 == 1:\n",
    "\n",
    "        # Entonces incrementamos el conteo en uno la variable \"conteoNumerosImpares\"\n",
    "        conteoNumerosImpares  += 1\n",
    "\n",
    "    # Si no es impar entonces con defecto es par, entonces incrementamos la variables de par\n",
    "    else:\n",
    "        conteoNumerosPares += 1\n",
    "\n",
    "    # Continuando con el bucle, si no digitan cero \n",
    "    numero = int(input('Ingrese un número, cero finaliza el programa '))\n",
    "\n",
    "    # Si digitan cero para terminar el programa, mostramos el contep final de numero pares e impares\n",
    "\n",
    "print('Resultado final conteo de número pares: ', conteoNumerosPares)\n",
    "print('Resultado final conteo de número impares: ',conteoNumerosImpares)\n",
    " "
   ]
  },
  {
   "attachments": {},
   "cell_type": "markdown",
   "metadata": {},
   "source": []
  }
 ],
 "metadata": {
  "kernelspec": {
   "display_name": "Python 3",
   "language": "python",
   "name": "python3"
  },
  "language_info": {
   "codemirror_mode": {
    "name": "ipython",
    "version": 3
   },
   "file_extension": ".py",
   "mimetype": "text/x-python",
   "name": "python",
   "nbconvert_exporter": "python",
   "pygments_lexer": "ipython3",
   "version": "3.11.0"
  },
  "orig_nbformat": 4
 },
 "nbformat": 4,
 "nbformat_minor": 2
}
