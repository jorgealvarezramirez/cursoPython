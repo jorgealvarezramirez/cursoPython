{
 "cells": [
  {
   "attachments": {},
   "cell_type": "markdown",
   "metadata": {},
   "source": [
    "Este fragmento de código define una función llamada crear_tablero() que crea y devuelve un tablero vacío para el juego. A continuación, se explica paso a paso qué hace el código:\n",
    "\n",
    "La línea import random importa el módulo random, el cual se utiliza más adelante en el código para generar números aleatorios.\n",
    "\n",
    "La función crear_tablero() no tiene argumentos. Al llamar a esta función, se creará un tablero vacío.\n",
    "\n",
    "La variable tablero se inicializa como una lista vacía.\n",
    "\n",
    "Se utiliza un bucle for para iterar tres veces, ya que el tablero tendrá tres filas.\n",
    "\n",
    "En cada iteración del bucle, se crea una lista fila que contiene los números 1, 2 y 3. Estos números representarán las columnas del tablero.\n",
    "\n",
    "La lista fila se agrega al tablero utilizando el método append().\n",
    "\n",
    "Después de completar el bucle, el tablero completo se devuelve como resultado de la función.\n",
    "\n",
    "En resumen, esta función crea un tablero vacío representado por una lista de listas. Cada lista interna representa una fila del tablero y contiene los números del 1 al 3, que representan las columnas. El tablero se utiliza como base para jugar al juego del Tic-Tac-Toe."
   ]
  },
  {
   "cell_type": "code",
   "execution_count": 1,
   "metadata": {},
   "outputs": [],
   "source": [
    "import random\n",
    "\n",
    "\n",
    "def crear_tablero():\n",
    "    # Crea un tablero vacío\n",
    "    tablero = []\n",
    "    for _ in range(3):\n",
    "        fila = [1, 2, 3]\n",
    "        tablero.append(fila)\n",
    "    return tablero"
   ]
  },
  {
   "attachments": {},
   "cell_type": "markdown",
   "metadata": {},
   "source": [
    "Este fragmento de código define una función llamada imprimir_tablero(tablero) que recibe un tablero como argumento y lo imprime en la consola en un formato visualmente atractivo. A continuación, se explica paso a paso qué hace el código:\n",
    "\n",
    "La función imprimir_tablero() recibe un parámetro tablero, que se espera que sea una lista de listas que representa el estado actual del tablero del juego.\n",
    "\n",
    "Se utiliza un bucle for para iterar sobre cada fila del tablero.\n",
    "\n",
    "Dentro del bucle, se imprimen las líneas que representan el borde superior e inferior del tablero, utilizando caracteres de '+' y '-' para crear la estructura visual del tablero.\n",
    "\n",
    "Luego, se imprimen las líneas de cada fila del tablero. Cada fila se representa con tres celdas separadas por el carácter '|'. Los valores de cada celda se obtienen accediendo a los elementos de la lista fila utilizando la sintaxis fila[0], fila[1] y fila[2].\n",
    "\n",
    "Entre cada línea que representa una fila, se imprimen líneas en blanco para crear el espacio visual alrededor de las celdas.\n",
    "\n",
    "Después de completar el bucle, se imprime la última línea que representa el borde inferior del tablero.\n",
    "\n",
    "En resumen, esta función toma un tablero como entrada y lo imprime en la consola en un formato visualmente agradable, mostrando las celdas y los bordes del tablero utilizando caracteres especiales. Esto permite al usuario ver el estado actual del tablero del juego durante el juego del Tic-Tac-Toe."
   ]
  },
  {
   "cell_type": "code",
   "execution_count": 2,
   "metadata": {},
   "outputs": [],
   "source": [
    "\n",
    "def imprimir_tablero(tablero):\n",
    "    # Imprime el tablero en la consola\n",
    "    print(\"+-------+-------+-------+\")\n",
    "    for fila in tablero:\n",
    "        print(\"|       |       |       |\")\n",
    "        print(f\"|   {fila[0]}   |   {fila[1]}   |   {fila[2]}   |\")\n",
    "        print(\"|       |       |       |\")\n",
    "        print(\"+-------+-------+-------+\")"
   ]
  }
 ],
 "metadata": {
  "kernelspec": {
   "display_name": "Python 3",
   "language": "python",
   "name": "python3"
  },
  "language_info": {
   "codemirror_mode": {
    "name": "ipython",
    "version": 3
   },
   "file_extension": ".py",
   "mimetype": "text/x-python",
   "name": "python",
   "nbconvert_exporter": "python",
   "pygments_lexer": "ipython3",
   "version": "3.11.0"
  },
  "orig_nbformat": 4
 },
 "nbformat": 4,
 "nbformat_minor": 2
}
